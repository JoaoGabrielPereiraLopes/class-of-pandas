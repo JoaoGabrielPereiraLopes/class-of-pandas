{
 "cells": [
  {
   "cell_type": "code",
   "execution_count": 6,
   "metadata": {},
   "outputs": [],
   "source": [
    "# received the a list content velocites in kilometers per hours\n",
    "kmh=[40,50,56,64,73,79]"
   ]
  },
  {
   "cell_type": "code",
   "execution_count": 7,
   "metadata": {},
   "outputs": [
    {
     "name": "stdout",
     "output_type": "stream",
     "text": [
      "[24.84, 31.06, 34.78, 39.75, 45.34, 49.07]\n"
     ]
    }
   ],
   "source": [
    "#tranform and print KMH in Miles per hour using map\n",
    "mph=list(map(lambda x: round(x/1.61,2),kmh))\n",
    "print(mph)"
   ]
  },
  {
   "cell_type": "code",
   "execution_count": 8,
   "metadata": {},
   "outputs": [
    {
     "name": "stdout",
     "output_type": "stream",
     "text": [
      "[24.84, 31.06, 34.78, 39.75, 45.34, 49.07]\n"
     ]
    }
   ],
   "source": [
    "#tranform and print KMH in Miles per hour using list comprehension\n",
    "mph2=[round(x/1.61,2) for x in kmh]\n",
    "print(mph)"
   ]
  }
 ],
 "metadata": {
  "kernelspec": {
   "display_name": "Python 3",
   "language": "python",
   "name": "python3"
  },
  "language_info": {
   "codemirror_mode": {
    "name": "ipython",
    "version": 3
   },
   "file_extension": ".py",
   "mimetype": "text/x-python",
   "name": "python",
   "nbconvert_exporter": "python",
   "pygments_lexer": "ipython3",
   "version": "3.9.13"
  }
 },
 "nbformat": 4,
 "nbformat_minor": 2
}
